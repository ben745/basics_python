{
  "nbformat": 4,
  "nbformat_minor": 0,
  "metadata": {
    "colab": {
      "provenance": [],
      "toc_visible": true,
      "authorship_tag": "ABX9TyNmFGjr2PsgP3WI70lv59a8",
      "include_colab_link": true
    },
    "kernelspec": {
      "name": "python3",
      "display_name": "Python 3"
    },
    "language_info": {
      "name": "python"
    }
  },
  "cells": [
    {
      "cell_type": "markdown",
      "metadata": {
        "id": "view-in-github",
        "colab_type": "text"
      },
      "source": [
        "<a href=\"https://colab.research.google.com/github/ben745/basics_python/blob/main/Basics_python.ipynb\" target=\"_parent\"><img src=\"https://colab.research.google.com/assets/colab-badge.svg\" alt=\"Open In Colab\"/></a>"
      ]
    },
    {
      "cell_type": "markdown",
      "source": [
        "unpack collection"
      ],
      "metadata": {
        "id": "jxMzoGtXPY7T"
      }
    },
    {
      "cell_type": "code",
      "source": [
        "fruits = ['apple','papai','promogranate']\n",
        "x,y,z=fruits\n",
        "print(x,y,z)\n",
        "print(type(fruits))\n",
        "print(type(x))\n"
      ],
      "metadata": {
        "colab": {
          "base_uri": "https://localhost:8080/"
        },
        "id": "ywKCfKbnOyUg",
        "outputId": "71100436-de47-4570-e3d1-14ab35801dec"
      },
      "execution_count": null,
      "outputs": [
        {
          "output_type": "stream",
          "name": "stdout",
          "text": [
            "apple papai promogranate\n",
            "<class 'list'>\n",
            "<class 'str'>\n"
          ]
        }
      ]
    },
    {
      "cell_type": "code",
      "execution_count": null,
      "metadata": {
        "id": "H8TF3Nrj_NYn",
        "colab": {
          "base_uri": "https://localhost:8080/"
        },
        "outputId": "20ee98d2-97e4-4453-a9fb-ca63afb9d0cb"
      },
      "outputs": [
        {
          "output_type": "stream",
          "name": "stdout",
          "text": [
            "1 2.4 durga \n",
            "<class 'str'>\n"
          ]
        }
      ],
      "source": [
        "# space also taken as string\n",
        "x,y,z,d=1,2.4,'durga',''\n",
        "print(x,y,z,d)\n",
        "print(type(d))"
      ]
    },
    {
      "cell_type": "code",
      "source": [
        "fruits = ('apple','papai','promogranate',)\n",
        "x,y,z=fruits\n",
        "print(x,y,z , sep=\", \")\n",
        "print(type(fruits))\n",
        "print(type(x))\n",
        "print(x+y+z)"
      ],
      "metadata": {
        "colab": {
          "base_uri": "https://localhost:8080/"
        },
        "id": "jJ3V0o4gOxzM",
        "outputId": "c3581424-23f4-455c-8bda-c32ff99feec4"
      },
      "execution_count": null,
      "outputs": [
        {
          "output_type": "stream",
          "name": "stdout",
          "text": [
            "apple, papai, promogranate\n",
            "<class 'tuple'>\n",
            "<class 'str'>\n",
            "applepapaipromogranate\n"
          ]
        }
      ]
    },
    {
      "cell_type": "code",
      "source": [
        "x=1\n",
        "y=2\n",
        "print(x+y)\n",
        "x='25'\n",
        "y='30'\n",
        "print(x+y)"
      ],
      "metadata": {
        "colab": {
          "base_uri": "https://localhost:8080/"
        },
        "id": "opvMm8uQPyib",
        "outputId": "e586ce36-ce4d-4c11-b47e-876b5474b2de"
      },
      "execution_count": null,
      "outputs": [
        {
          "output_type": "stream",
          "name": "stdout",
          "text": [
            "3\n",
            "2530\n"
          ]
        }
      ]
    },
    {
      "cell_type": "code",
      "source": [
        "x='durga'\n",
        "def my_fun():\n",
        "  x='lakshmi'\n",
        "  print('my name is',x)\n",
        "print(x)\n",
        "my_fun()"
      ],
      "metadata": {
        "colab": {
          "base_uri": "https://localhost:8080/"
        },
        "id": "Ckdb-5DcRzIf",
        "outputId": "5d705ede-2e6d-4f69-e0e1-8b04a81e88d0"
      },
      "execution_count": 28,
      "outputs": [
        {
          "output_type": "stream",
          "name": "stdout",
          "text": [
            "durga\n",
            "my name is lakshmi\n"
          ]
        }
      ]
    },
    {
      "cell_type": "code",
      "source": [
        "x=range(1,6)\n",
        "print(x)\n",
        "for i in x:\n",
        "  print(i)"
      ],
      "metadata": {
        "colab": {
          "base_uri": "https://localhost:8080/"
        },
        "id": "rMbxjCKyXXkr",
        "outputId": "8b34c124-ec4e-4f7c-910c-cd84d887dce5"
      },
      "execution_count": 33,
      "outputs": [
        {
          "output_type": "stream",
          "name": "stdout",
          "text": [
            "range(1, 6)\n",
            "1\n",
            "2\n",
            "3\n",
            "4\n",
            "5\n"
          ]
        }
      ]
    },
    {
      "cell_type": "code",
      "source": [
        "x = memoryview(bytes(5))\n",
        "print(x)"
      ],
      "metadata": {
        "colab": {
          "base_uri": "https://localhost:8080/"
        },
        "id": "JIn-BIsJXYIb",
        "outputId": "1f2e234c-d1e2-4822-c659-d7ff3879c183"
      },
      "execution_count": 35,
      "outputs": [
        {
          "output_type": "stream",
          "name": "stdout",
          "text": [
            "<memory at 0x7b733417dfc0>\n"
          ]
        }
      ]
    },
    {
      "cell_type": "markdown",
      "source": [
        "Random module"
      ],
      "metadata": {
        "id": "9jvAOIDwYUw6"
      }
    },
    {
      "cell_type": "code",
      "source": [
        "import random\n",
        "print(random.randrange(1, 10))"
      ],
      "metadata": {
        "colab": {
          "base_uri": "https://localhost:8080/"
        },
        "id": "4qtL0fTMYMSn",
        "outputId": "f5a9e22a-3d16-4286-a067-be04524e7787"
      },
      "execution_count": 44,
      "outputs": [
        {
          "output_type": "stream",
          "name": "stdout",
          "text": [
            "7\n"
          ]
        }
      ]
    },
    {
      "cell_type": "code",
      "source": [
        "for x in 'banana helle':\n",
        "  print(x)"
      ],
      "metadata": {
        "colab": {
          "base_uri": "https://localhost:8080/"
        },
        "id": "6Rm_WqyzZZwW",
        "outputId": "fec0ee35-9f5c-4522-9e53-b50935bc1b97"
      },
      "execution_count": 47,
      "outputs": [
        {
          "output_type": "stream",
          "name": "stdout",
          "text": [
            "b\n",
            "a\n",
            "n\n",
            "a\n",
            "n\n",
            "a\n",
            " \n",
            "h\n",
            "e\n",
            "l\n",
            "l\n",
            "e\n"
          ]
        }
      ]
    },
    {
      "cell_type": "code",
      "source": [
        "txt='python is a open source language'\n",
        "print('ython' in txt)"
      ],
      "metadata": {
        "colab": {
          "base_uri": "https://localhost:8080/"
        },
        "id": "I2dU1TXHaJSV",
        "outputId": "8adf32ac-0e34-4be4-f08e-3a55d336b89e"
      },
      "execution_count": 49,
      "outputs": [
        {
          "output_type": "stream",
          "name": "stdout",
          "text": [
            "True\n"
          ]
        }
      ]
    },
    {
      "cell_type": "code",
      "source": [
        "x='postgresql is open source sever'\n",
        "if \"open\" in  x:\n",
        "  print('yes, it is present in data')"
      ],
      "metadata": {
        "colab": {
          "base_uri": "https://localhost:8080/"
        },
        "id": "HHxum8pVaScf",
        "outputId": "2eaf1b04-eaa7-4fbe-d0d3-60cf40c4d6b1"
      },
      "execution_count": 53,
      "outputs": [
        {
          "output_type": "stream",
          "name": "stdout",
          "text": [
            "yes, it is present in data\n"
          ]
        }
      ]
    },
    {
      "cell_type": "markdown",
      "source": [
        "String:*methods*"
      ],
      "metadata": {
        "id": "36DQVNNfbB6A"
      }
    },
    {
      "cell_type": "code",
      "source": [
        "a= \" Hello, Durga ,\"\n",
        "b=\"hello durga  n\"\n",
        "print(a.upper())\n",
        "print(a.lower())\n",
        "print(len(a))\n",
        "print(a.strip())\n",
        "print(a.split(','))\n",
        "print(b.split())"
      ],
      "metadata": {
        "colab": {
          "base_uri": "https://localhost:8080/"
        },
        "id": "1PITdfOvaws9",
        "outputId": "6d0480d2-ac1f-46d8-9d7b-5d6f9203998e"
      },
      "execution_count": 64,
      "outputs": [
        {
          "output_type": "stream",
          "name": "stdout",
          "text": [
            " HELLO, DURGA ,\n",
            " hello, durga ,\n",
            "15\n",
            "Hello, Durga ,\n",
            "[' Hello', ' Durga ', '']\n",
            "['hello', 'durga', 'n']\n"
          ]
        }
      ]
    },
    {
      "cell_type": "code",
      "source": [
        "a='i am durga Bhavani'\n",
        "b=' I am tegu, and , btech, dba'\n",
        "c= str('testing, ntg').split(' ') # here c is converting into list\n",
        "print(type(c))\n",
        "print(c)\n",
        "print(type(c))"
      ],
      "metadata": {
        "colab": {
          "base_uri": "https://localhost:8080/"
        },
        "id": "S9LYmUjhcGRz",
        "outputId": "9a1ad13e-a202-41a9-e730-8525da59aad5"
      },
      "execution_count": 71,
      "outputs": [
        {
          "output_type": "stream",
          "name": "stdout",
          "text": [
            "<class 'list'>\n",
            "['testing,', 'ntg']\n",
            "<class 'list'>\n"
          ]
        }
      ]
    },
    {
      "cell_type": "code",
      "source": [
        "a='durga'\n",
        "b='nagarajuna'\n",
        "print((a+b+\" \")*5)"
      ],
      "metadata": {
        "colab": {
          "base_uri": "https://localhost:8080/"
        },
        "id": "-TxUC94YdDmW",
        "outputId": "3588a08d-4864-4f1e-9e55-4563fbbeeb27"
      },
      "execution_count": 83,
      "outputs": [
        {
          "output_type": "stream",
          "name": "stdout",
          "text": [
            "durganagarajuna durganagarajuna durganagarajuna durganagarajuna durganagarajuna \n"
          ]
        }
      ]
    },
    {
      "cell_type": "markdown",
      "source": [
        "**F-String**"
      ],
      "metadata": {
        "id": "mXNPP0DJd9oJ"
      }
    },
    {
      "cell_type": "code",
      "source": [
        "age=int(input(\"enter your age: \"))\n",
        "print(f\"my age next year is {age+1}\")"
      ],
      "metadata": {
        "colab": {
          "base_uri": "https://localhost:8080/"
        },
        "id": "op0xF-lod0gv",
        "outputId": "dbc7e922-0712-436f-b100-7cf5ad2eafff"
      },
      "execution_count": 86,
      "outputs": [
        {
          "output_type": "stream",
          "name": "stdout",
          "text": [
            "enter your age: 23\n",
            "my age next year is 24\n"
          ]
        }
      ]
    },
    {
      "cell_type": "code",
      "source": [
        "txt = \"We are the so-called \\\"Vikings\\\" from the north.\"\n",
        "print(txt)\n",
        "txt1 = \"We are the so-called \\n from the north and \\t also i want to fly in air \"\n",
        "print(txt1)"
      ],
      "metadata": {
        "colab": {
          "base_uri": "https://localhost:8080/"
        },
        "id": "bEjiJHVteNPH",
        "outputId": "641c0882-a748-456e-b7ac-4ef1efee1c27"
      },
      "execution_count": 102,
      "outputs": [
        {
          "output_type": "stream",
          "name": "stdout",
          "text": [
            "We are the so-called \"Vikings\" from the north.\n",
            "We are the so-called \n",
            " from the north and \t also i want to fly in air \n"
          ]
        }
      ]
    },
    {
      "cell_type": "markdown",
      "source": [
        "List compression: *we create another list with in existing list*"
      ],
      "metadata": {
        "id": "TyuNLPnrizuV"
      }
    },
    {
      "cell_type": "code",
      "source": [
        "thislist = [\"apple\", \"banana\", \"cherry\"]\n",
        "[print(x) for x in thislist]"
      ],
      "metadata": {
        "colab": {
          "base_uri": "https://localhost:8080/"
        },
        "id": "GT_HqrOPfwqC",
        "outputId": "900d3612-8646-497e-f780-10fb94c5a728"
      },
      "execution_count": 104,
      "outputs": [
        {
          "output_type": "stream",
          "name": "stdout",
          "text": [
            "apple\n",
            "banana\n",
            "cherry\n"
          ]
        },
        {
          "output_type": "execute_result",
          "data": {
            "text/plain": [
              "[None, None, None]"
            ]
          },
          "metadata": {},
          "execution_count": 104
        }
      ]
    },
    {
      "cell_type": "code",
      "source": [
        "fruits=[\"apple\",'banana','papai','guvi','grape']\n",
        "newlist= []\n",
        "for x in fruits:\n",
        "  print(x)"
      ],
      "metadata": {
        "colab": {
          "base_uri": "https://localhost:8080/"
        },
        "id": "Y-Rnqk1Ri2fP",
        "outputId": "fff863ea-0db6-4f9d-edff-6a1dec9a6f8b"
      },
      "execution_count": 106,
      "outputs": [
        {
          "output_type": "stream",
          "name": "stdout",
          "text": [
            "apple\n",
            "banana\n",
            "papai\n",
            "guvi\n",
            "grape\n"
          ]
        }
      ]
    },
    {
      "cell_type": "code",
      "source": [
        "fruits=[\"apple\",'banana','papai','guvi','grape']\n",
        "newlist= []\n",
        "for x in fruits:\n",
        "  newlist.append(x)\n",
        "print(newlist)"
      ],
      "metadata": {
        "colab": {
          "base_uri": "https://localhost:8080/"
        },
        "id": "meQMVpd-jHBZ",
        "outputId": "e096cbc9-8aad-49ff-8ac9-afb22dacd387"
      },
      "execution_count": 114,
      "outputs": [
        {
          "output_type": "stream",
          "name": "stdout",
          "text": [
            "['apple', 'banana', 'papai', 'guvi', 'grape']\n"
          ]
        }
      ]
    },
    {
      "cell_type": "code",
      "source": [
        "fruits=[\"apple\",'banana','papai','guvi','grape']\n",
        "newlist= []\n",
        "def fruit():\n",
        "  for x in fruits:\n",
        "    if \"a\" in x:\n",
        "      newlist.append(x)\n",
        "  print(newlist)\n",
        "fruit()"
      ],
      "metadata": {
        "colab": {
          "base_uri": "https://localhost:8080/"
        },
        "id": "IxVMFUVSjtjf",
        "outputId": "34c9b965-42c1-444a-9ad0-c0623686e8ec"
      },
      "execution_count": 124,
      "outputs": [
        {
          "output_type": "stream",
          "name": "stdout",
          "text": [
            "['apple', 'banana', 'papai', 'grape']\n"
          ]
        }
      ]
    },
    {
      "cell_type": "code",
      "source": [
        "fruits=[\"apple\",'banana','papai','guvi','grape']\n",
        "new_list= [x for x in fruits if 'u' in x]\n",
        "print(new_list)"
      ],
      "metadata": {
        "colab": {
          "base_uri": "https://localhost:8080/"
        },
        "id": "P5GXImnCko6p",
        "outputId": "eec37572-136b-43fa-d324-d9b5867b5e40"
      },
      "execution_count": 126,
      "outputs": [
        {
          "output_type": "stream",
          "name": "stdout",
          "text": [
            "['guvi']\n"
          ]
        }
      ]
    },
    {
      "cell_type": "markdown",
      "source": [
        "Copy list in four ways:\n",
        "*   copy()\n",
        "*   [:]\n",
        "*   list1=list2 -- here if we update in list2, list 1 also updated\n",
        "\n"
      ],
      "metadata": {
        "id": "7lG2PAUdle7h"
      }
    },
    {
      "cell_type": "code",
      "source": [
        "list1=[10,20,30]\n",
        "list2=list1\n",
        "print(list1)\n",
        "print(list2)\n",
        "a=list2.append(20)\n",
        "print(list1)\n",
        "print(list2)"
      ],
      "metadata": {
        "colab": {
          "base_uri": "https://localhost:8080/"
        },
        "id": "OJBFlhc0lJQD",
        "outputId": "22cdcc91-fa97-4559-e546-cbbc13c70584"
      },
      "execution_count": 132,
      "outputs": [
        {
          "output_type": "stream",
          "name": "stdout",
          "text": [
            "[10, 20, 30]\n",
            "[10, 20, 30]\n",
            "[10, 20, 30, 20]\n",
            "[10, 20, 30, 20]\n"
          ]
        }
      ]
    },
    {
      "cell_type": "code",
      "source": [
        "list1=[1,2,3]\n",
        "list2= list1.copy()\n",
        "print(list1)\n",
        "print(list2)\n",
        "list2.append(23)\n",
        "print(list1)\n",
        "print(list2)"
      ],
      "metadata": {
        "colab": {
          "base_uri": "https://localhost:8080/"
        },
        "id": "QjGNQWm6mxii",
        "outputId": "aadaa87f-c3c8-4c0c-f0b2-1eccabce98e3"
      },
      "execution_count": 135,
      "outputs": [
        {
          "output_type": "stream",
          "name": "stdout",
          "text": [
            "[1, 2, 3]\n",
            "[1, 2, 3]\n",
            "[1, 2, 3]\n",
            "[1, 2, 3, 23]\n"
          ]
        }
      ]
    },
    {
      "cell_type": "code",
      "source": [
        "list1=[2,4,1,7]\n",
        "s= list1.sort()\n",
        "print(list1)\n",
        "list2=list1[:]\n",
        "print(list2)"
      ],
      "metadata": {
        "colab": {
          "base_uri": "https://localhost:8080/"
        },
        "id": "1npdpvgsnF9t",
        "outputId": "552098ac-acc3-442b-ad05-4ff81222bc3d"
      },
      "execution_count": 144,
      "outputs": [
        {
          "output_type": "stream",
          "name": "stdout",
          "text": [
            "[1, 2, 4, 7]\n",
            "[1, 2, 4, 7]\n"
          ]
        }
      ]
    },
    {
      "cell_type": "markdown",
      "source": [
        "Join lists"
      ],
      "metadata": {
        "id": "OEWGwlgBp4LE"
      }
    },
    {
      "cell_type": "code",
      "source": [
        "list1=['apple','banana','guvi']\n",
        "list2=[1,2,3]\n",
        "list3= list1 + list2\n",
        "print(list3)"
      ],
      "metadata": {
        "colab": {
          "base_uri": "https://localhost:8080/"
        },
        "id": "Ez28qe5yntSH",
        "outputId": "4fa5bb9e-02f9-4b03-a968-c5ac683141e6"
      },
      "execution_count": 146,
      "outputs": [
        {
          "output_type": "stream",
          "name": "stdout",
          "text": [
            "['apple', 'banana', 'guvi', 1, 2, 3]\n"
          ]
        }
      ]
    },
    {
      "cell_type": "code",
      "source": [
        "list1=['apple','banana','guvi']\n",
        "print(list1)\n",
        "list2=[1,2,3]\n",
        "for x in list2:\n",
        "  list1.append(x)\n",
        "print(list1)"
      ],
      "metadata": {
        "colab": {
          "base_uri": "https://localhost:8080/"
        },
        "id": "lv8skAUbqTvx",
        "outputId": "74d3dd99-a8c7-4f4a-8909-14a76e0ae1d4"
      },
      "execution_count": 150,
      "outputs": [
        {
          "output_type": "stream",
          "name": "stdout",
          "text": [
            "['apple', 'banana', 'guvi']\n",
            "['apple', 'banana', 'guvi', 1, 2, 3]\n"
          ]
        }
      ]
    },
    {
      "cell_type": "code",
      "source": [
        "list1=['apple','banana','guvi']\n",
        "list2=[1,2,3]\n",
        "list1.extend(list2)\n",
        "print(list1)"
      ],
      "metadata": {
        "colab": {
          "base_uri": "https://localhost:8080/"
        },
        "id": "LmOfeN5rqvXk",
        "outputId": "a6984864-f24b-47e2-fc6a-97cb623707cd"
      },
      "execution_count": 156,
      "outputs": [
        {
          "output_type": "stream",
          "name": "stdout",
          "text": [
            "['apple', 'banana', 'guvi', 1, 2, 3]\n"
          ]
        }
      ]
    },
    {
      "cell_type": "markdown",
      "source": [
        "Python- sets\n",
        "\n",
        "* union or update or |  keeps all elements in a set*\n",
        "\n",
        "\n",
        "*   intersection or & *keep only duplicate elements in both sets*\n",
        "*   difference or - * only first set elements return in non-common elements*\n",
        "* symmetric_difference or ^ **\n",
        "\n",
        "\n",
        "\n",
        " The union() and update() methods joins all items from both sets.\n",
        "\n",
        "The intersection() method keeps ONLY the duplicates.\n",
        "\n",
        "The difference() method keeps the items from the first set that are not in the other set(s).\n",
        "\n",
        "The symmetric_difference() method keeps all items EXCEPT the duplicates.\n",
        "\n",
        "The intersection_update() method will also keep ONLY the duplicates, but it will change the original set instead of returning a new set."
      ],
      "metadata": {
        "id": "YVotUrngt0Xt"
      }
    },
    {
      "cell_type": "code",
      "source": [
        "set1 = {'apple','banana','guvi'}\n",
        "set2 = {'Google','amazon','apple'}\n",
        "set3= set1 + set2\n",
        "print(set3)"
      ],
      "metadata": {
        "colab": {
          "base_uri": "https://localhost:8080/",
          "height": 193
        },
        "id": "q5cW4FQgsAq3",
        "outputId": "e3fa7ea3-c8c1-4cf4-cd2e-09bbbfae6521"
      },
      "execution_count": 158,
      "outputs": [
        {
          "output_type": "error",
          "ename": "TypeError",
          "evalue": "unsupported operand type(s) for +: 'set' and 'set'",
          "traceback": [
            "\u001b[0;31m---------------------------------------------------------------------------\u001b[0m",
            "\u001b[0;31mTypeError\u001b[0m                                 Traceback (most recent call last)",
            "\u001b[0;32m/tmp/ipython-input-439375470.py\u001b[0m in \u001b[0;36m<cell line: 0>\u001b[0;34m()\u001b[0m\n\u001b[1;32m      1\u001b[0m \u001b[0mset1\u001b[0m \u001b[0;34m=\u001b[0m \u001b[0;34m{\u001b[0m\u001b[0;34m'apple'\u001b[0m\u001b[0;34m,\u001b[0m\u001b[0;34m'banana'\u001b[0m\u001b[0;34m,\u001b[0m\u001b[0;34m'guvi'\u001b[0m\u001b[0;34m}\u001b[0m\u001b[0;34m\u001b[0m\u001b[0;34m\u001b[0m\u001b[0m\n\u001b[1;32m      2\u001b[0m \u001b[0mset2\u001b[0m \u001b[0;34m=\u001b[0m \u001b[0;34m{\u001b[0m\u001b[0;34m'Google'\u001b[0m\u001b[0;34m,\u001b[0m\u001b[0;34m'amazon'\u001b[0m\u001b[0;34m,\u001b[0m\u001b[0;34m'apple'\u001b[0m\u001b[0;34m}\u001b[0m\u001b[0;34m\u001b[0m\u001b[0;34m\u001b[0m\u001b[0m\n\u001b[0;32m----> 3\u001b[0;31m \u001b[0mset3\u001b[0m\u001b[0;34m=\u001b[0m \u001b[0mset1\u001b[0m \u001b[0;34m+\u001b[0m \u001b[0mset2\u001b[0m\u001b[0;34m\u001b[0m\u001b[0;34m\u001b[0m\u001b[0m\n\u001b[0m\u001b[1;32m      4\u001b[0m \u001b[0mprint\u001b[0m\u001b[0;34m(\u001b[0m\u001b[0mset3\u001b[0m\u001b[0;34m)\u001b[0m\u001b[0;34m\u001b[0m\u001b[0;34m\u001b[0m\u001b[0m\n",
            "\u001b[0;31mTypeError\u001b[0m: unsupported operand type(s) for +: 'set' and 'set'"
          ]
        }
      ]
    },
    {
      "cell_type": "code",
      "source": [
        "set1 = {'apple','banana','guvi'}\n",
        "set2 = {'Google','amazon','apple'}\n",
        "set1.update(set2)\n",
        "print(set1)"
      ],
      "metadata": {
        "colab": {
          "base_uri": "https://localhost:8080/"
        },
        "id": "rqC24OdjvKOX",
        "outputId": "fd63ba8e-0c93-4de0-b8d6-5f1eba06c93e"
      },
      "execution_count": 161,
      "outputs": [
        {
          "output_type": "stream",
          "name": "stdout",
          "text": [
            "{'apple', 'amazon', 'banana', 'Google', 'guvi'}\n"
          ]
        }
      ]
    },
    {
      "cell_type": "code",
      "source": [
        "set1 = {'apple','banana','guvi'}\n",
        "set2 = {'Google','amazon','apple'}\n",
        "set3=set1.union(set2)\n",
        "print(set1)\n",
        "print(set3)"
      ],
      "metadata": {
        "colab": {
          "base_uri": "https://localhost:8080/"
        },
        "id": "V5coSwMIvShh",
        "outputId": "bfb65d3e-1297-47af-e9e2-ba39218acaf5"
      },
      "execution_count": 166,
      "outputs": [
        {
          "output_type": "stream",
          "name": "stdout",
          "text": [
            "{'apple', 'guvi', 'banana'}\n",
            "{'apple', 'amazon', 'banana', 'Google', 'guvi'}\n"
          ]
        }
      ]
    },
    {
      "cell_type": "code",
      "source": [
        "set1 = {'apple','banana','guvi'}\n",
        "set2 = {'Google','amazon','apple'}\n",
        "set3 = set1 | set2 # here i use pipe symbol\n",
        "print(set1)\n",
        "print(set2)\n",
        "print(set3)"
      ],
      "metadata": {
        "colab": {
          "base_uri": "https://localhost:8080/"
        },
        "id": "GnyS6y80v-rH",
        "outputId": "18607d44-60c0-41a4-ac91-826eef849716"
      },
      "execution_count": 168,
      "outputs": [
        {
          "output_type": "stream",
          "name": "stdout",
          "text": [
            "{'apple', 'guvi', 'banana'}\n",
            "{'apple', 'Google', 'amazon'}\n",
            "{'apple', 'amazon', 'banana', 'Google', 'guvi'}\n"
          ]
        }
      ]
    },
    {
      "cell_type": "code",
      "source": [
        "set1 = {\"a\", \"b\", \"c\"}\n",
        "set2 = {1, 2, 3}\n",
        "set3 = {\"John\", \"Elena\"}\n",
        "set4 = {\"apple\", \"bananas\", \"cherry\"}\n",
        "\n",
        "myset = set1 | set2 | set3 |set4\n",
        "print(myset)"
      ],
      "metadata": {
        "colab": {
          "base_uri": "https://localhost:8080/"
        },
        "id": "pwSv2FgDwjlG",
        "outputId": "3358dfa0-3c30-4f3a-a5a3-b28dc965d796"
      },
      "execution_count": 175,
      "outputs": [
        {
          "output_type": "stream",
          "name": "stdout",
          "text": [
            "{1, 2, 'c', 3, 'Elena', 'cherry', 'bananas', 'apple', 'b', 'John', 'a'}\n"
          ]
        }
      ]
    },
    {
      "cell_type": "code",
      "source": [
        "set1 = {'apple','banana','guvi'}\n",
        "set2 = {'Google','amazon','apple'}\n",
        "set3 = set1.intersection(set2)\n",
        "print(set3)"
      ],
      "metadata": {
        "colab": {
          "base_uri": "https://localhost:8080/"
        },
        "id": "UNaRy9_6wNNM",
        "outputId": "f0cfa473-b3ff-49eb-bc45-783b8344f64d"
      },
      "execution_count": 170,
      "outputs": [
        {
          "output_type": "stream",
          "name": "stdout",
          "text": [
            "{'apple'}\n"
          ]
        }
      ]
    },
    {
      "cell_type": "code",
      "source": [
        "set1 = {'apple','banana','guvi'}\n",
        "set2 = {'Google','amazon','apple'}\n",
        "set3= set1 & set2\n",
        "print(set3)"
      ],
      "metadata": {
        "colab": {
          "base_uri": "https://localhost:8080/"
        },
        "id": "VkSSMm1qwaWi",
        "outputId": "7ac7b985-e198-4a3a-bc4f-8a60af686d3a"
      },
      "execution_count": 176,
      "outputs": [
        {
          "output_type": "stream",
          "name": "stdout",
          "text": [
            "{'apple'}\n"
          ]
        }
      ]
    },
    {
      "cell_type": "code",
      "source": [
        "set1 = {'apple','banana','guvi'}\n",
        "set2 = {'Google','amazon','apple'}\n",
        "set1.intersection_update(set2)\n",
        "print(set1)"
      ],
      "metadata": {
        "colab": {
          "base_uri": "https://localhost:8080/"
        },
        "id": "QeR9wHEQwsTp",
        "outputId": "89271db9-11f7-4862-ce6c-67cff4623609"
      },
      "execution_count": 178,
      "outputs": [
        {
          "output_type": "stream",
          "name": "stdout",
          "text": [
            "{'apple'}\n"
          ]
        }
      ]
    },
    {
      "cell_type": "code",
      "source": [
        "set1 = {\"apple\", \"banana\", \"cherry\"}\n",
        "set2 = {\"google\", \"microsoft\", \"apple\"}\n",
        "\n",
        "set3 = set1.difference(set2)\n",
        "\n",
        "print(set3)"
      ],
      "metadata": {
        "colab": {
          "base_uri": "https://localhost:8080/"
        },
        "id": "h6irnK6DxCMJ",
        "outputId": "8947645a-bf79-44ba-8b49-8c9f23f0346a"
      },
      "execution_count": 180,
      "outputs": [
        {
          "output_type": "stream",
          "name": "stdout",
          "text": [
            "{'banana', 'cherry'}\n"
          ]
        }
      ]
    },
    {
      "cell_type": "code",
      "source": [
        "set1 = {\"apple\", \"banana\", \"cherry\"}\n",
        "set2 = {\"google\", \"microsoft\", \"apple\"}\n",
        "\n",
        "set3 = set1-set2\n",
        "\n",
        "print(set3)"
      ],
      "metadata": {
        "colab": {
          "base_uri": "https://localhost:8080/"
        },
        "id": "h-tgZE-xxP8b",
        "outputId": "bdc44100-fad7-46cf-d6bd-a6071ddd0434"
      },
      "execution_count": 182,
      "outputs": [
        {
          "output_type": "stream",
          "name": "stdout",
          "text": [
            "{'banana', 'cherry'}\n"
          ]
        }
      ]
    },
    {
      "cell_type": "code",
      "source": [
        "set1 = {\"apple\", \"banana\", \"cherry\"}\n",
        "set2 = {\"google\", \"microsoft\", \"apple\"}\n",
        "\n",
        "set1.difference_update(set2)\n",
        "\n",
        "print(set1)"
      ],
      "metadata": {
        "colab": {
          "base_uri": "https://localhost:8080/"
        },
        "id": "A9PN0re9xZ5n",
        "outputId": "83cd895b-77eb-4597-c8c8-3c1063b0bde0"
      },
      "execution_count": 184,
      "outputs": [
        {
          "output_type": "stream",
          "name": "stdout",
          "text": [
            "{'cherry', 'banana'}\n"
          ]
        }
      ]
    },
    {
      "cell_type": "code",
      "source": [
        "set1 = {\"apple\", \"banana\", \"cherry\"}\n",
        "set2 = {\"google\", \"microsoft\", \"apple\"}\n",
        "\n",
        "set3 = set1.symmetric_difference(set2) # keep elements that are not present both sets\n",
        "\n",
        "print(set3)"
      ],
      "metadata": {
        "colab": {
          "base_uri": "https://localhost:8080/"
        },
        "id": "fkxt8ggmxjCk",
        "outputId": "0de5822e-eb7a-474a-dd68-347bea6eb707"
      },
      "execution_count": 186,
      "outputs": [
        {
          "output_type": "stream",
          "name": "stdout",
          "text": [
            "{'microsoft', 'cherry', 'banana', 'google'}\n"
          ]
        }
      ]
    },
    {
      "cell_type": "code",
      "source": [
        "set1 = {\"apple\", \"banana\", \"cherry\"}\n",
        "set2 = {\"google\", \"microsoft\", \"apple\"}\n",
        "\n",
        "set3 = set1 ^ set2\n",
        "\n",
        "print(set3)"
      ],
      "metadata": {
        "colab": {
          "base_uri": "https://localhost:8080/"
        },
        "id": "GYojH4XGxoXd",
        "outputId": "b83a0a68-1015-4232-cafd-e2bdd5aa0b89"
      },
      "execution_count": 188,
      "outputs": [
        {
          "output_type": "stream",
          "name": "stdout",
          "text": [
            "{'microsoft', 'cherry', 'banana', 'google'}\n"
          ]
        }
      ]
    },
    {
      "cell_type": "code",
      "source": [
        "set1 = {\"apple\", \"banana\", \"cherry\"}\n",
        "set2 = {\"google\", \"microsoft\", \"apple\"}\n",
        "\n",
        "set1.symmetric_difference_update(set2)\n",
        "\n",
        "print(set1)"
      ],
      "metadata": {
        "colab": {
          "base_uri": "https://localhost:8080/"
        },
        "id": "-WN-dzQMxsfD",
        "outputId": "3acb0ab0-861a-4bfc-c306-1ad9409b9a2e"
      },
      "execution_count": 189,
      "outputs": [
        {
          "output_type": "stream",
          "name": "stdout",
          "text": [
            "{'microsoft', 'cherry', 'banana', 'google'}\n"
          ]
        }
      ]
    }
  ]
}